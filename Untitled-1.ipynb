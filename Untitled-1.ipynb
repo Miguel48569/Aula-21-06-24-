{
 "cells": [
  {
   "cell_type": "code",
   "execution_count": 26,
   "metadata": {},
   "outputs": [],
   "source": [
    "#criando uma classe\n",
    "class Animal():\n",
    "    #construtor da classe\n",
    "    def __init__(self, name, weight, color):\n",
    "        #atributos\n",
    "        self.nome = name\n",
    "        self.peso = weight\n",
    "        self.corDoPelo = color\n",
    "\n",
    "    def imprimirDados(self):\n",
    "        return(\"nome: %s /npeso: %s\" %(self.nome, self.peso))\n",
    "    \n",
    "    def latir(self, barulho):\n",
    "        print(barulho)\n",
    "\n"
   ]
  },
  {
   "cell_type": "code",
   "execution_count": 27,
   "metadata": {},
   "outputs": [
    {
     "name": "stdout",
     "output_type": "stream",
     "text": [
      "nome: Marlene /npeso: 7.9\n",
      "Au, Au!\n",
      "nome: Cibele /npeso: 4.5\n",
      "Miau!\n"
     ]
    }
   ],
   "source": [
    "#Instanciando um objeto cachorro\n",
    "caozinho = Animal(\"Marlene\", 7.9, \"Caramelo\")\n",
    "gato = Animal(\"Cibele\", 4.5, \"Cinza\")\n",
    "\n",
    "#chamando o método do objeto criado\n",
    "print(caozinho.imprimirDados())\n",
    "caozinho.latir(\"Au, Au!\")\n",
    "\n",
    "print(gato.imprimirDados())\n",
    "gato.latir(\"Miau!\")"
   ]
  },
  {
   "cell_type": "code",
   "execution_count": 32,
   "metadata": {},
   "outputs": [],
   "source": [
    "#criando uma classe chamada livro\n",
    "class Livro():\n",
    "    def __init__(self):\n",
    "        self.titulo = 'O Monge e o Executivo'\n",
    "        self.isbn = 9988888\n",
    "        print(\"construtor chamado para criar um objeto desta classe\")\n",
    "    \n",
    "    def imprime(self):\n",
    "        print(\"Foi criado o livro %s e ISBN %d\" %(self.titulo, self.isbn))"
   ]
  },
  {
   "cell_type": "code",
   "execution_count": 33,
   "metadata": {},
   "outputs": [
    {
     "name": "stdout",
     "output_type": "stream",
     "text": [
      "construtor chamado para criar um objeto desta classe\n"
     ]
    }
   ],
   "source": [
    "#Criando uma instância da classe livro\n",
    "Livro1 = Livro()"
   ]
  },
  {
   "cell_type": "code",
   "execution_count": 34,
   "metadata": {},
   "outputs": [
    {
     "data": {
      "text/plain": [
       "__main__.Livro"
      ]
     },
     "execution_count": 34,
     "metadata": {},
     "output_type": "execute_result"
    }
   ],
   "source": [
    "type(Livro1)"
   ]
  },
  {
   "cell_type": "code",
   "execution_count": 35,
   "metadata": {},
   "outputs": [
    {
     "data": {
      "text/plain": [
       "'O Monge e o Executivo'"
      ]
     },
     "execution_count": 35,
     "metadata": {},
     "output_type": "execute_result"
    }
   ],
   "source": [
    "Livro1.titulo"
   ]
  },
  {
   "cell_type": "code",
   "execution_count": 36,
   "metadata": {},
   "outputs": [
    {
     "name": "stdout",
     "output_type": "stream",
     "text": [
      "Foi criado o livro O Monge e o Executivo e ISBN 9988888\n"
     ]
    }
   ],
   "source": [
    "#metodo do objeto Livro1\n",
    "Livro1.imprime()"
   ]
  },
  {
   "cell_type": "code",
   "execution_count": 39,
   "metadata": {},
   "outputs": [],
   "source": [
    "class Livro():\n",
    "    def __init__(self, titulo, isbn):\n",
    "        self.titulo = titulo\n",
    "        self.isbn = isbn\n",
    "        print(\"construtor chamado para criar um objeto desta classe\")\n",
    "    \n",
    "    def imprime(self):\n",
    "        print(\"Foi criado o livro %s e ISBN %d\" %(self.titulo, self.isbn))"
   ]
  },
  {
   "cell_type": "code",
   "execution_count": 40,
   "metadata": {},
   "outputs": [
    {
     "name": "stdout",
     "output_type": "stream",
     "text": [
      "construtor chamado para criar um objeto desta classe\n"
     ]
    }
   ],
   "source": [
    "#criando o objeto livro2 que é uma instância da classe livro\n",
    "Livro2 = Livro(\"A Menina que Roubava Livros\", 77886611)"
   ]
  },
  {
   "cell_type": "code",
   "execution_count": 49,
   "metadata": {},
   "outputs": [],
   "source": [
    "class Pessoa():\n",
    "    def __init__(self, name, age): #variáveis da função\n",
    "        self.nome=name #atributo da classe \n",
    "        self.idade=age #atributo da classe\n",
    "\n",
    "    def nascimento(self, idade): #variável da função\n",
    "        return(2022-idade) #retorna o ano que a pessoa nasceu"
   ]
  },
  {
   "cell_type": "code",
   "execution_count": 50,
   "metadata": {},
   "outputs": [
    {
     "data": {
      "text/plain": [
       "1987"
      ]
     },
     "execution_count": 50,
     "metadata": {},
     "output_type": "execute_result"
    }
   ],
   "source": [
    "pessoa1 = Pessoa(\"Maria\", 35)\n",
    "pessoa1.nome\n",
    "pessoa1.idade\n",
    "pessoa1.nascimento(35)"
   ]
  },
  {
   "cell_type": "code",
   "execution_count": 60,
   "metadata": {},
   "outputs": [
    {
     "name": "stdout",
     "output_type": "stream",
     "text": [
      "Nome: mig, Idade: 18 \n",
      "Nome: cap, Idade: 34 \n",
      "Nome: cp, Idade: 54 \n",
      "Nome: dep, Idade: 15 \n",
      "Nome: valter, Idade: 40 \n"
     ]
    }
   ],
   "source": [
    "listaDePessoas=[] #criando uma lista vazia \n",
    "for i in range(5): #frequencia de repetição do loop for, segundo a \n",
    "    nome = str(input(\"Nome: \"))\n",
    "    idade = int(input(\"Idade: \"))\n",
    "    pessoa = Pessoa(nome, idade)\n",
    "    listaDePessoas.append(pessoa)\n",
    "\n",
    "for objeto in range(len(listaDePessoas)):\n",
    "    print(\"Nome: %s, Idade: %d \" %(listaDePessoas[objeto].nome, listaDePessoas[objeto].idade))"
   ]
  }
 ],
 "metadata": {
  "kernelspec": {
   "display_name": "Python 3",
   "language": "python",
   "name": "python3"
  },
  "language_info": {
   "codemirror_mode": {
    "name": "ipython",
    "version": 3
   },
   "file_extension": ".py",
   "mimetype": "text/x-python",
   "name": "python",
   "nbconvert_exporter": "python",
   "pygments_lexer": "ipython3",
   "version": "3.12.2"
  }
 },
 "nbformat": 4,
 "nbformat_minor": 2
}
